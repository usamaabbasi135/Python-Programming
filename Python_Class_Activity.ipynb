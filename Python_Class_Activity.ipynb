{
  "cells": [
    {
      "cell_type": "markdown",
      "id": "33956be4",
      "metadata": {
        "id": "33956be4"
      },
      "source": [
        "#### [Question1]\n",
        "\n",
        "a) Create a string variable called my_str containing the following sentence: Python programming is fun and powerful! <br>\n",
        "b) Find the length of my_str. <br>\n",
        "c) Replace \"fun\" in my_str with \"exciting.\" Store this back in my_str and print my_str <br>\n",
        "d) Find the index of the word powerful in my_str <br>\n",
        "e) Split the string into a list of words (google which function can help you do this). Store this in my_str_to_list and print it"
      ]
    },
    {
      "cell_type": "code",
      "execution_count": 30,
      "id": "4dfe59e8",
      "metadata": {
        "id": "4dfe59e8"
      },
      "outputs": [],
      "source": [
        "# create my_str below\n",
        "\n",
        "my_str = \"Python programming is fun and Powerful!\""
      ]
    },
    {
      "cell_type": "code",
      "execution_count": 31,
      "id": "33b969da",
      "metadata": {
        "id": "33b969da",
        "outputId": "c8061558-8042-4847-9bee-ada705cb4153",
        "colab": {
          "base_uri": "https://localhost:8080/"
        }
      },
      "outputs": [
        {
          "output_type": "execute_result",
          "data": {
            "text/plain": [
              "39"
            ]
          },
          "metadata": {},
          "execution_count": 31
        }
      ],
      "source": [
        "# find out the length of my_str. no need to store this anywhere\n",
        "len(my_str)"
      ]
    },
    {
      "cell_type": "code",
      "execution_count": 32,
      "id": "b45d1a3b",
      "metadata": {
        "id": "b45d1a3b",
        "outputId": "e434018c-f5b7-4bf0-d75d-d421d13d4f87",
        "colab": {
          "base_uri": "https://localhost:8080/"
        }
      },
      "outputs": [
        {
          "output_type": "stream",
          "name": "stdout",
          "text": [
            "Python programming is exciting and Powerful!\n"
          ]
        }
      ],
      "source": [
        "# update my_str so it has the word exciting instead of fun. print my_str at the end\n",
        "my_str = my_str.replace('fun','exciting')\n",
        "print(my_str)\n",
        "\n"
      ]
    },
    {
      "cell_type": "code",
      "execution_count": 33,
      "id": "4c67c03c",
      "metadata": {
        "id": "4c67c03c",
        "outputId": "bfef16af-2889-4238-9209-ea3f9385a219",
        "colab": {
          "base_uri": "https://localhost:8080/"
        }
      },
      "outputs": [
        {
          "output_type": "stream",
          "name": "stdout",
          "text": [
            "35\n"
          ]
        }
      ],
      "source": [
        "# find the index of the word powerful in my_str\n",
        "position = my_str.index(\"Powerful\")\n",
        "print(position)"
      ]
    },
    {
      "cell_type": "code",
      "execution_count": 12,
      "id": "bdfffa17",
      "metadata": {
        "id": "bdfffa17",
        "outputId": "7f723080-533e-4160-fa1a-e68e21293b6c",
        "colab": {
          "base_uri": "https://localhost:8080/"
        }
      },
      "outputs": [
        {
          "output_type": "stream",
          "name": "stdout",
          "text": [
            "['Python', 'programming', 'is', 'fun', 'and', 'Powerful!']\n"
          ]
        }
      ],
      "source": [
        "# create my_str_to_list and store my_str split into a list of words in this. print my_str_to_list\n",
        "my_str_to_list = my_str.split()\n",
        "print(my_str_to_list)\n",
        "\n"
      ]
    },
    {
      "cell_type": "markdown",
      "id": "2235471f",
      "metadata": {
        "id": "2235471f"
      },
      "source": [
        "#### [Question2]\n",
        "Given a variable called Celsius with the value 108.6, convert it to Fahrenheit. Google the formula for celcius to fahrenheit conversion. Print out Fahrenheit."
      ]
    },
    {
      "cell_type": "code",
      "execution_count": 13,
      "id": "3364767a",
      "metadata": {
        "id": "3364767a",
        "outputId": "cf15229d-7a83-4da8-dc0d-689125d5ac7c",
        "colab": {
          "base_uri": "https://localhost:8080/"
        }
      },
      "outputs": [
        {
          "output_type": "stream",
          "name": "stdout",
          "text": [
            "227.48\n"
          ]
        }
      ],
      "source": [
        "Celsius = 108.6\n",
        "\n",
        "Fahrenheit = ((9/5) * Celsius) + 32  # write your conversion formula here\n",
        "\n",
        "\n",
        "#print out Fahrenheit below\n",
        "print(Fahrenheit)\n"
      ]
    },
    {
      "cell_type": "markdown",
      "id": "f7069988",
      "metadata": {
        "id": "f7069988"
      },
      "source": [
        "#### [Question3]\n",
        "\n",
        "A university wants to write a program that will help them decide the eligibility of each applicant. The conditions are:\n",
        "- all admits must be 18 or older in age\n",
        "- if their GPA is 3.0 or above, they are eligible. If their GPA is 2.8 or above, they are eligible based on a performance test. Otherwise they are not eligible.\n",
        "\n",
        "\n",
        "Given the three lists names, ages and GPA:\n",
        "\n",
        "Write a for loop that will print out the following three things in each iteration:\n",
        "\n",
        "- Student (insert name) has age (insert age) and GPA (insert GPA)\n",
        "- Eligible for admission/ Eligible for admission based on performance test/ Not eligible for admission\n",
        "- New line\n",
        "\n",
        "example:\n",
        "\n",
        "Student Hassan Ali has age 19 and GPA 3.0 <br>\n",
        "Eligible for admission"
      ]
    },
    {
      "cell_type": "code",
      "execution_count": 37,
      "id": "3bd3d902",
      "metadata": {
        "id": "3bd3d902",
        "outputId": "401a035f-07a6-4223-a40d-472e9b351937",
        "colab": {
          "base_uri": "https://localhost:8080/"
        }
      },
      "outputs": [
        {
          "output_type": "stream",
          "name": "stdout",
          "text": [
            "Student: Hassan Ali has age: 19 and GPA: 3.0\n",
            "Eligible\n",
            "Student: Rabbiya Sarmad has age: 17 and GPA: 3.9\n",
            "Eligible\n",
            "Student: Zara Haq has age: 15 and GPA: 2.5\n",
            "Not eligible for admission\n",
            "Student: Hussain Rafay has age: 21 and GPA: 3.1\n",
            "Eligible\n",
            "Student: Dua Hamid has age: 18 and GPA: 2.9\n",
            "Eligible for admission based on performance test\n"
          ]
        }
      ],
      "source": [
        "names = ['Hassan Ali', 'Rabbiya Sarmad', 'Zara Haq', 'Hussain Rafay', 'Dua Hamid']\n",
        "ages = [19, 17, 15, 21, 18, 20]\n",
        "GPA = [3.0, 3.9, 2.5, 3.1, 2.9]\n",
        "\n",
        "\n",
        "# Write your for loop below:\n",
        "\n",
        "for pos, name in enumerate(names):\n",
        "  print(\"Student:\", name, \"has age:\", ages[pos], \"and GPA:\", GPA [pos])\n",
        "  if(GPA[pos] >= 3.0):\n",
        "    print(\"Eligible\")\n",
        "  elif (GPA[pos] > 2.8):\n",
        "    print(\"Eligible for admission based on performance test\")\n",
        "  else:\n",
        "    print(\"Not eligible for admission\")\n",
        "\n",
        "\n",
        "\n"
      ]
    },
    {
      "cell_type": "markdown",
      "id": "893405b9",
      "metadata": {
        "id": "893405b9"
      },
      "source": [
        "#### [Question 4]\n",
        "\n",
        "Given the following list called numbers:\n",
        "\n",
        "a) Convert it into a tuple and print it. <br>\n",
        "b) Calculate the sum of this tuple. Store it in sum_numbers. print sum_numbers <br>\n",
        "c) Using slicing, fetch every odd indexed element from numbers <br>\n",
        "d) Create new **lists** called evens and odds. Using ONE for loop, add every even integer from the numbers tuple to evens and every odd number to odds. in the end, print numbers, evens and odds. <br>\n",
        "e) Would it be possible to do this if evens and odds were tuples instead of lists?"
      ]
    },
    {
      "cell_type": "code",
      "execution_count": 26,
      "id": "f0e87e0d",
      "metadata": {
        "id": "f0e87e0d",
        "outputId": "0cbbbe77-6e65-464e-85c4-2b39217fe46f",
        "colab": {
          "base_uri": "https://localhost:8080/"
        }
      },
      "outputs": [
        {
          "output_type": "stream",
          "name": "stdout",
          "text": [
            "(12, 34, 45, 67, 89, 100, 23, 56)\n",
            "426\n",
            "[12, 45, 89, 23]\n",
            "The even numbers are:  [12, 34, 100, 56]\n",
            "The odd numbers are:  [45, 67, 89, 23]\n"
          ]
        }
      ],
      "source": [
        "numbers =  [12, 34, 45, 67, 89, 100, 23, 56]\n",
        "\n",
        "#convert numbers into a tuple below and print numbers\n",
        "numbers_tuple = tuple(numbers)\n",
        "print(numbers_tuple)"
      ]
    },
    {
      "cell_type": "code",
      "execution_count": null,
      "id": "a41a80cb",
      "metadata": {
        "id": "a41a80cb"
      },
      "outputs": [],
      "source": [
        "# create sum_numbers and store the sum of numbers in it. print sum_numbers\n",
        "sum_numbers = sum(numbers_tuple)\n",
        "print(sum_numbers)"
      ]
    },
    {
      "cell_type": "code",
      "execution_count": 40,
      "id": "5908766a",
      "metadata": {
        "id": "5908766a",
        "outputId": "7d1f68b7-c9ef-4b83-efce-5e7b2412d2f6",
        "colab": {
          "base_uri": "https://localhost:8080/"
        }
      },
      "outputs": [
        {
          "output_type": "stream",
          "name": "stdout",
          "text": [
            "[34, 67, 100, 56]\n"
          ]
        }
      ],
      "source": [
        "# fetch every odd indexed element from numbers below. No need to store this anywhere, just show output\n",
        "print(numbers [1::2])"
      ]
    },
    {
      "cell_type": "code",
      "execution_count": null,
      "id": "027c59f5",
      "metadata": {
        "id": "027c59f5"
      },
      "outputs": [],
      "source": [
        "# create empty lists called evens and odds below:\n",
        "evens = []\n",
        "odds = []\n",
        "\n",
        "# write a single for loop to add integers from the numbers tuple to evens and odds lists below:\n",
        "for number in numbers:\n",
        "  if(number % 2 == 0):\n",
        "    evens.append(number)\n",
        "  else:\n",
        "    odds.append(number)\n",
        "\n",
        "# print out numbers, evens and odd below\n",
        "print(\"The even numbers are: \", evens)\n",
        "print(\"The odd numbers are: \", odds)"
      ]
    },
    {
      "cell_type": "code",
      "execution_count": null,
      "id": "4f801920",
      "metadata": {
        "id": "4f801920"
      },
      "outputs": [],
      "source": [
        "# comment if the above would be possible to do if evens and odds were tuples instead of lists?\n",
        "\n",
        "# Since tuples are immutable so we cann't add items to them after they are initialized.\n",
        "\n"
      ]
    },
    {
      "cell_type": "markdown",
      "id": "b0bf88d8",
      "metadata": {
        "id": "b0bf88d8"
      },
      "source": [
        "#### [Question 5]\n",
        "\n",
        "a) Create a list called fruits containing the following fruits: apple, banana, orange, grape, kiwi, mango <br>\n",
        "b) Using a for loop, update every single item in fruits so that the first letter is capitalized. Print fruits at the end"
      ]
    },
    {
      "cell_type": "code",
      "execution_count": 29,
      "id": "0d1aed0e",
      "metadata": {
        "id": "0d1aed0e",
        "outputId": "132957b4-8f29-4fbd-a005-2c90204d6a6b",
        "colab": {
          "base_uri": "https://localhost:8080/"
        }
      },
      "outputs": [
        {
          "output_type": "stream",
          "name": "stdout",
          "text": [
            "['Apple', 'Banana', 'Orange', 'Grape', 'Kiwi', 'Mango']\n"
          ]
        }
      ],
      "source": [
        "# create fruits below\n",
        "\n",
        "fruits = [\"apple\", \"banana\", \"orange\", \"grape\", \"kiwi\", \"mango\"]\n",
        "\n",
        "# write a for loop to capitalize every element in fruits below\n",
        "for pos,fruit in enumerate(fruits):\n",
        "  fruits[pos]= fruit.capitalize()\n",
        "#print updated fruits below\n",
        "print(fruits)\n",
        "\n"
      ]
    },
    {
      "cell_type": "markdown",
      "id": "57fe7528",
      "metadata": {
        "id": "57fe7528"
      },
      "source": [
        "#### [Question 6]\n",
        "\n",
        "a) Create a dictionary named \"capitals\" with three key-value pairs: \"USA\" - \"Washington DC\", \"France\" - \"Paris\",  and \"Japan\" - \"Tokyo\". Print the dictionary. <br>\n",
        "b) Add a new country and its capital to the \"capitals\" dictionary. The country is \"Germany\" and the capital is \"Berlin\". Print the updated dictionary. <br>\n",
        "c) Check if \"France\" exists in the \"capitals\" dictionary. If it does, print \"France is in the dictionary\" otherwise, print \"France is not in the dictionary\" (hint: you will need to use the keyword in)"
      ]
    },
    {
      "cell_type": "code",
      "execution_count": 34,
      "id": "fe365bbe",
      "metadata": {
        "id": "fe365bbe",
        "outputId": "2c2995f6-53c1-448d-d05f-77011f79dfd4",
        "colab": {
          "base_uri": "https://localhost:8080/"
        }
      },
      "outputs": [
        {
          "output_type": "stream",
          "name": "stdout",
          "text": [
            "{'USA': 'Washington DC', 'France': 'Paris', 'Japan': 'Tokyo'}\n"
          ]
        }
      ],
      "source": [
        "# create the dictionary capitals below with its key:value pairs and print it\n",
        "capitals = {\"USA\": \"Washington DC\", \"France\": \"Paris\", \"Japan\": \"Tokyo\"}\n",
        "print(capitals)\n",
        "\n"
      ]
    },
    {
      "cell_type": "code",
      "execution_count": 35,
      "id": "d219c2ce",
      "metadata": {
        "id": "d219c2ce",
        "outputId": "3932d21a-ee85-4b76-9afc-085510d8dd50",
        "colab": {
          "base_uri": "https://localhost:8080/"
        }
      },
      "outputs": [
        {
          "output_type": "stream",
          "name": "stdout",
          "text": [
            "{'USA': 'Washington DC', 'France': 'Paris', 'Japan': 'Tokyo', 'Germany': 'Berlin'}\n"
          ]
        }
      ],
      "source": [
        "# add germany to capitals below and print updated dictionary\n",
        "capitals[\"Germany\"] = \"Berlin\"\n",
        "print(capitals)\n",
        "\n"
      ]
    },
    {
      "cell_type": "code",
      "execution_count": 36,
      "id": "65940d65",
      "metadata": {
        "id": "65940d65",
        "outputId": "9ead2444-ec76-416c-e856-755b2ec14191",
        "colab": {
          "base_uri": "https://localhost:8080/"
        }
      },
      "outputs": [
        {
          "output_type": "stream",
          "name": "stdout",
          "text": [
            "France is in the dictionary\n"
          ]
        }
      ],
      "source": [
        "# check if france is in the dictionary and print \"France is in the dictionary\" or \"France is not in the dictionary\"\n",
        "if \"France\" in capitals:\n",
        "    print(\"France is in the dictionary\")\n",
        "else:\n",
        "    print(\"France is not in the dictionary\")\n",
        "\n"
      ]
    }
  ],
  "metadata": {
    "kernelspec": {
      "display_name": "Python 3 (ipykernel)",
      "language": "python",
      "name": "python3"
    },
    "language_info": {
      "codemirror_mode": {
        "name": "ipython",
        "version": 3
      },
      "file_extension": ".py",
      "mimetype": "text/x-python",
      "name": "python",
      "nbconvert_exporter": "python",
      "pygments_lexer": "ipython3",
      "version": "3.9.13"
    },
    "colab": {
      "provenance": []
    }
  },
  "nbformat": 4,
  "nbformat_minor": 5
}