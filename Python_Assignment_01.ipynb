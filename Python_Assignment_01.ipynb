{
  "nbformat": 4,
  "nbformat_minor": 0,
  "metadata": {
    "colab": {
      "provenance": []
    },
    "kernelspec": {
      "name": "python3",
      "display_name": "Python 3"
    },
    "language_info": {
      "name": "python"
    }
  },
  "cells": [
    {
      "cell_type": "markdown",
      "source": [
        "**Task 1: Variables and Data Types**"
      ],
      "metadata": {
        "id": "bOaCNJubWjs9"
      }
    },
    {
      "cell_type": "code",
      "execution_count": null,
      "metadata": {
        "colab": {
          "base_uri": "https://localhost:8080/"
        },
        "id": "kTPGbjvcVzBq",
        "outputId": "89b27414-1773-431e-a3ad-5a7af604dddf"
      },
      "outputs": [
        {
          "output_type": "stream",
          "name": "stdout",
          "text": [
            "25\n",
            "Usama Abbasi\n",
            "False\n"
          ]
        }
      ],
      "source": [
        "# Create three variables\n",
        "\n",
        "# one for storing your age (integer)\n",
        "age = 25\n",
        "\n",
        "# one for your name (string)\n",
        "my_name = 'Usama Abbasi'\n",
        "\n",
        "# one to check if you are a student (Boolean)\n",
        "is_student = False\n",
        "\n",
        "# Print the variables\n",
        "print(age)\n",
        "print(my_name)\n",
        "print(is_student)"
      ]
    },
    {
      "cell_type": "code",
      "source": [
        "# Perform the following operations and print the results:\n",
        "\n",
        "# Add 25 to your age variable.\n",
        "age = age + 25\n",
        "\n",
        "# Concatenate your name with the string &quot;Smith.&quot;\n",
        "my_name = my_name +' '+ 'Smith'\n",
        "\n",
        "# Negate the Boolean variable (if True, make it False, and vice versa).\n",
        "is_student = not is_student\n",
        "\n",
        "# print the results\n",
        "print(age)\n",
        "print(my_name)\n",
        "print(is_student)"
      ],
      "metadata": {
        "colab": {
          "base_uri": "https://localhost:8080/"
        },
        "id": "pXwVhMzsXvLj",
        "outputId": "f78c8276-abb7-44dd-fbdb-d2db739430ad"
      },
      "execution_count": null,
      "outputs": [
        {
          "output_type": "stream",
          "name": "stdout",
          "text": [
            "175\n",
            "Usama Abbasi Smith Smith Smith Smith Smith Smith\n",
            "False\n"
          ]
        }
      ]
    },
    {
      "cell_type": "markdown",
      "source": [
        "**Task 2: Expressions and Operators**"
      ],
      "metadata": {
        "id": "JIQ7jWeqaSA2"
      }
    },
    {
      "cell_type": "code",
      "source": [
        "# A rectangle has a width of 5.5 units and a height of 3.25 units. Store width and height in variables.\n",
        "width = 5.5\n",
        "height = 3.25\n",
        "\n",
        "# Create a new variable called area and write an expression to calculate the area\n",
        "area = width * height\n",
        "\n",
        "#Print the area in the output.\n",
        "print(area)"
      ],
      "metadata": {
        "colab": {
          "base_uri": "https://localhost:8080/"
        },
        "id": "FtgQvezwaYg6",
        "outputId": "144e68fb-40d6-481a-bb40-32574421aa20"
      },
      "execution_count": null,
      "outputs": [
        {
          "output_type": "stream",
          "name": "stdout",
          "text": [
            "17.875\n"
          ]
        }
      ]
    },
    {
      "cell_type": "code",
      "source": [
        "# Take temperature input from user in Celsius.\n",
        "temp_in_celsius = int(input(\"Enter temperature in Celsius:\"))\n",
        "\n",
        "# Convert it to Fahrenheit using the formula:\n",
        "# F = (C * 9/5) + 32\n",
        "# Store this temperature in a variable called Fahrenheit\n",
        "temp_in_fahrenheit = (temp_in_celsius * 9/5) + 32\n",
        "\n",
        "# print this variable.\n",
        "print(\"The temperature in Fahrenheit is: \", temp_in_fahrenheit)"
      ],
      "metadata": {
        "colab": {
          "base_uri": "https://localhost:8080/"
        },
        "id": "0YyicvBgbIX7",
        "outputId": "667ea30e-858e-4e75-a75e-db3be3cfa5cc"
      },
      "execution_count": null,
      "outputs": [
        {
          "output_type": "stream",
          "name": "stdout",
          "text": [
            "Enter temperature in Celsius:32\n",
            "The temperature in Fahrenheit is:  89.6\n"
          ]
        }
      ]
    },
    {
      "cell_type": "code",
      "source": [
        "# Take radius of the circle as input from user\n",
        "radius = int(input(\"Enter radius of the circle: \"))\n",
        "\n",
        "# (pi) is approximately 3.14159)\n",
        "pi_value = 3.14159\n",
        "\n",
        "# Calculate the area of a circle with this radius and store it in a variable called area.\n",
        "# (Use the formula: area = π * radius^2, where π .\n",
        "area_of_circle = (pi_value * (radius**2))\n",
        "\n",
        "# Print area at the end of your code.\n",
        "print(area_of_circle)"
      ],
      "metadata": {
        "colab": {
          "base_uri": "https://localhost:8080/"
        },
        "id": "706LPA6HdQ1R",
        "outputId": "ad319fb1-26dd-4da4-c824-a4d9e863f315"
      },
      "execution_count": null,
      "outputs": [
        {
          "output_type": "stream",
          "name": "stdout",
          "text": [
            "Enter radius of the circle: 2\n",
            "12.56636\n"
          ]
        }
      ]
    },
    {
      "cell_type": "markdown",
      "source": [
        "**Task 3: List Manipulation**"
      ],
      "metadata": {
        "id": "_UgPtAn-ePvF"
      }
    },
    {
      "cell_type": "code",
      "source": [
        "# Create a list called \"fruits\": containing the following fruits: \"apple\",\"banana\",\"cherry\",\"date\",\"strawberry\",\"fig\",\"grape\".\n",
        "\n",
        "fruits = [\"apple\",\"banana\",\"cherry\",\"date\",\"strawberry\",\"fig\",\"grape\"]\n",
        "\n",
        "# Print the list.\n",
        "print(fruits)"
      ],
      "metadata": {
        "colab": {
          "base_uri": "https://localhost:8080/"
        },
        "id": "GYMisEIpeUdK",
        "outputId": "e31b6fad-eeb0-4cf1-c881-585f869abc69"
      },
      "execution_count": null,
      "outputs": [
        {
          "output_type": "stream",
          "name": "stdout",
          "text": [
            "['apple', 'banana', 'cherry', 'date', 'strawberry', 'fig', 'grape']\n"
          ]
        }
      ]
    },
    {
      "cell_type": "code",
      "source": [
        "# Remove the first and\n",
        "\n",
        "fruits.pop(0)\n",
        "\n",
        "# last elements from the \"fruits\" list.\n",
        "# I have dynamically added the index of the last element.\n",
        "# Because this code will generate error when run second time.\n",
        "# Index will not be found if we statically type in the last index\n",
        "\n",
        "fruits.pop(len(fruits)-1)\n",
        "\n",
        "# Print the updated list.\n",
        "print(fruits)\n"
      ],
      "metadata": {
        "colab": {
          "base_uri": "https://localhost:8080/"
        },
        "id": "zWrKlMMXfA3R",
        "outputId": "41385b55-5b7b-4064-9a95-7e809cbcae9d"
      },
      "execution_count": null,
      "outputs": [
        {
          "output_type": "stream",
          "name": "stdout",
          "text": [
            "['banana', 'cherry', 'date', 'strawberry', 'fig']\n"
          ]
        }
      ]
    },
    {
      "cell_type": "code",
      "source": [
        "# Replace the second to fourth items with [\"Kiwi\", \"lemon\",\"mango\"] using list slicing.\n",
        "fruits[2:5] = [\"kiwi\",\"lemon\",\"mango\"]\n",
        "print(fruits)"
      ],
      "metadata": {
        "colab": {
          "base_uri": "https://localhost:8080/"
        },
        "id": "nx-WzcLBikMD",
        "outputId": "aa042bb7-a60d-4d99-aba4-5a2cd4d548c5"
      },
      "execution_count": null,
      "outputs": [
        {
          "output_type": "stream",
          "name": "stdout",
          "text": [
            "['apple', 'banana', 'kiwi', 'lemon', 'mango', 'fig', 'grape']\n"
          ]
        }
      ]
    },
    {
      "cell_type": "code",
      "source": [
        "# Use the len() function to find how many fruits are in the list.\n",
        "\n",
        "length_of_list = len(fruits)\n",
        "print(length_of_list)"
      ],
      "metadata": {
        "colab": {
          "base_uri": "https://localhost:8080/"
        },
        "id": "E9mSmquojoX5",
        "outputId": "bb897eca-6014-4592-a7d4-3c47b7d4d6a5"
      },
      "execution_count": null,
      "outputs": [
        {
          "output_type": "stream",
          "name": "stdout",
          "text": [
            "7\n"
          ]
        }
      ]
    },
    {
      "cell_type": "markdown",
      "source": [
        "**Task 4: Dictionary Operations**"
      ],
      "metadata": {
        "id": "doi8Z1xsIfa8"
      }
    },
    {
      "cell_type": "code",
      "source": [
        "# Create a dictionary named capitals with three key-value pairs: \"USA\": \"Washington D.C.\",\"France\": \"Paris\", \"Japan\":\"Tokyo\". Print the dictionary.\n",
        "\n",
        "capitals = {\n",
        "    \"USA\": \"Washington D.C.\",\n",
        "    \"France\": \"Paris\",\n",
        "    \"Japan\":\"Tokyo\"\n",
        "}\n",
        "\n",
        "print(capitals)"
      ],
      "metadata": {
        "colab": {
          "base_uri": "https://localhost:8080/"
        },
        "id": "VyBI1IkUIh_8",
        "outputId": "93a851fb-c5c5-46db-a9a3-f221e8eb4405"
      },
      "execution_count": null,
      "outputs": [
        {
          "output_type": "stream",
          "name": "stdout",
          "text": [
            "{'USA': 'Washington D.C.', 'France': 'Paris', 'Japan': 'Tokyo'}\n"
          ]
        }
      ]
    },
    {
      "cell_type": "code",
      "source": [
        "# Add a new country and its capital to the \"capitals\"; dictionary. The country is \"Germany\" and the\n",
        "# capital is \"Berlin\"\n",
        "\n",
        "capitals['Germany'] = 'Berlin'\n",
        "\n",
        "# Print the updated dictionary.\n",
        "print(capitals)"
      ],
      "metadata": {
        "colab": {
          "base_uri": "https://localhost:8080/"
        },
        "id": "AoKOywWhJmhl",
        "outputId": "dedd0ee4-6824-4c83-9e16-4edf6b51f193"
      },
      "execution_count": null,
      "outputs": [
        {
          "output_type": "stream",
          "name": "stdout",
          "text": [
            "{'USA': 'Washington D.C.', 'France': 'Paris', 'Japan': 'Tokyo', 'Germany': 'Berlin'}\n"
          ]
        }
      ]
    },
    {
      "cell_type": "code",
      "source": [
        "# Check if \"France\"; exists in the \"capitals\" dictionary. If it does, print \"France is in the dictionary\"\n",
        "# otherwise, print \"France is not in the dictionary\"\n",
        "\n",
        "#The capitals['France'] will return the value against the france key if it exist. So anythng other than 0 is true for if.\n",
        "\n",
        "if (capitals.get('France')) is not None:\n",
        "  print(\"France is in the dictionary\")\n",
        "else:\n",
        "  print(\"France is not in the dictionary\")\n"
      ],
      "metadata": {
        "colab": {
          "base_uri": "https://localhost:8080/"
        },
        "id": "ptEZnT-oK86m",
        "outputId": "b661417b-9743-47a9-d390-9a9d45e22e9d"
      },
      "execution_count": null,
      "outputs": [
        {
          "output_type": "stream",
          "name": "stdout",
          "text": [
            "France is not in the dictionary\n"
          ]
        }
      ]
    },
    {
      "cell_type": "markdown",
      "source": [
        "**Task 5: Comparison Operators, Logical Operators and If/Else**"
      ],
      "metadata": {
        "id": "Tc3ckFjSN-XC"
      }
    },
    {
      "cell_type": "code",
      "source": [
        "# Create a variable called number that takes user input.\n",
        "\n",
        "number = int(input('Enter any number:'))\n",
        "\n",
        "# Write a block of code that checks if the number is positive or negative.\n",
        "if(number > 0):\n",
        "  if(number % 2 == 0): # If the number is positive only then further check if it is even or odd.\n",
        "    print(\"Number is even\")\n",
        "  else:\n",
        "    print(\"Number is odd\")\n",
        "else:\n",
        "   print(\"Please enter a positive number.\")"
      ],
      "metadata": {
        "colab": {
          "base_uri": "https://localhost:8080/"
        },
        "id": "geYyEndFOBK3",
        "outputId": "0d6a2389-3661-442a-bb55-b2cbed0dd0ff"
      },
      "execution_count": null,
      "outputs": [
        {
          "output_type": "stream",
          "name": "stdout",
          "text": [
            "Enter any number:10\n",
            "Number is even\n"
          ]
        }
      ]
    },
    {
      "cell_type": "code",
      "source": [
        "# Create two variables called age and GPA. Give them values of your choice.\n",
        "age = 17\n",
        "GPA = 3.45\n",
        "\n",
        "# write a block of code to check if a student with this age and GPA is eligible for admission. The following are the conditions:\n",
        "# The student must be at least 18 years old.\n",
        "# The student's GPA must be 3.0 or higher on a scale of 4.0.\n",
        "# Your output should print “Eligible for admission” or “Not eligible for admission”\n",
        "\n",
        "\n",
        "if(age >= 18):\n",
        "  if(GPA > 3.0):\n",
        "    print(\"Eligible for Admission\")\n",
        "  else:\n",
        "    print(\"Not eligible for admission\")\n",
        "else:\n",
        "  print(\"Under 18! Not eligible for admission\")\n"
      ],
      "metadata": {
        "colab": {
          "base_uri": "https://localhost:8080/"
        },
        "id": "inIn-NmYaO3t",
        "outputId": "91a76bda-f75e-435b-8a3e-6132efdc0355"
      },
      "execution_count": null,
      "outputs": [
        {
          "output_type": "stream",
          "name": "stdout",
          "text": [
            "Under 18! Not eligible for admission\n"
          ]
        }
      ]
    },
    {
      "cell_type": "markdown",
      "source": [
        "**Task 6: Strings Manipulation**"
      ],
      "metadata": {
        "id": "IwcnlxhESQZl"
      }
    },
    {
      "cell_type": "code",
      "source": [
        "# Create a string variable containing the following sentence:\n",
        "# \"Python programming is fun and powerful!\"\n",
        "sentence = \"Python programming is fun and powerful!\"\n",
        "\n",
        "# Find the length of the string.\n",
        "len_of_string = len(sentence)\n",
        "print(len_of_string)\n",
        "\n",
        "# Convert the string to uppercase.\n",
        "upper_case_sentence = sentence.upper()\n",
        "print(upper_case_sentence)\n",
        "\n",
        "# Replace \"fun\" with \"exciting\"\n",
        "replaced_sentence = sentence.replace('fun','exciting')\n",
        "print(replaced_sentence)\n",
        "\n",
        "# Check if the string contains the word \"Python\"\n",
        "is_word_exist = sentence.find(\"Python\")\n",
        "if(is_word_exist >= 0):\n",
        "  print(\"The word exists at Index\", is_word_exist)\n"
      ],
      "metadata": {
        "colab": {
          "base_uri": "https://localhost:8080/"
        },
        "id": "wl7iwTcASVyP",
        "outputId": "a690ad42-052d-40a1-882b-ddccc36b3343"
      },
      "execution_count": 8,
      "outputs": [
        {
          "output_type": "stream",
          "name": "stdout",
          "text": [
            "39\n",
            "PYTHON PROGRAMMING IS FUN AND POWERFUL!\n",
            "Python programming is exciting and powerful!\n",
            "The word exists at Index 0\n"
          ]
        }
      ]
    },
    {
      "cell_type": "code",
      "source": [
        "# Extract the last word \"Powerful!\"\n",
        "\n",
        "words_in_sentence = sentence.split()\n",
        "index = words_in_sentence.index(\"powerful!\")\n",
        "print(words_in_sentence[index])\n"
      ],
      "metadata": {
        "colab": {
          "base_uri": "https://localhost:8080/"
        },
        "id": "JC08N5BcFoad",
        "outputId": "00f319c1-162b-4cd9-fc74-df1b25f59445"
      },
      "execution_count": 11,
      "outputs": [
        {
          "output_type": "stream",
          "name": "stdout",
          "text": [
            "powerful!\n"
          ]
        }
      ]
    },
    {
      "cell_type": "code",
      "source": [
        "# Remove the word programming from the sentence and print the rest of the sentence.\n",
        "modified_sentence= sentence.replace(\"programming\",\"\")\n",
        "print(modified_sentence)\n"
      ],
      "metadata": {
        "colab": {
          "base_uri": "https://localhost:8080/"
        },
        "id": "xvprqc56NBl8",
        "outputId": "dfc693e0-25f1-4593-f4db-fb74e422960f"
      },
      "execution_count": 12,
      "outputs": [
        {
          "output_type": "stream",
          "name": "stdout",
          "text": [
            "Python  is fun and powerful!\n"
          ]
        }
      ]
    },
    {
      "cell_type": "code",
      "source": [
        "# Given the string email =\"user@example.com\", perform the following:\n",
        "# Extract the username part. Extract the domain part.\n",
        "email = \"user@example.com\"\n",
        "result = email.split(\"@\")\n",
        "print(result[0])\n",
        "print(result[1])\n",
        "\n",
        "# Check if the email contains the substring &quot;example&quot;.\n",
        "is_word_exist = email.find(\"example\")\n",
        "if(is_word_exist >= 0):\n",
        "  print(\"The word exists at Index\", is_word_exist)"
      ],
      "metadata": {
        "colab": {
          "base_uri": "https://localhost:8080/"
        },
        "id": "MP-UBAY6OtSr",
        "outputId": "6a9e097f-1c96-43de-87ef-08a6de21c97e"
      },
      "execution_count": 16,
      "outputs": [
        {
          "output_type": "stream",
          "name": "stdout",
          "text": [
            "user\n",
            "example.com\n",
            "The word exists at Index 5\n"
          ]
        }
      ]
    }
  ]
}